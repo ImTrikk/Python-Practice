{
 "cells": [
  {
   "cell_type": "code",
   "execution_count": 1,
   "metadata": {},
   "outputs": [
    {
     "name": "stdout",
     "output_type": "stream",
     "text": [
      "This is your name: Patrick\n"
     ]
    }
   ],
   "source": [
    "str = input(\"Enter  your name: \")\n",
    "\n",
    "print(\"This is your name: \" + str)"
   ]
  },
  {
   "cell_type": "code",
   "execution_count": 4,
   "metadata": {},
   "outputs": [
    {
     "name": "stdout",
     "output_type": "stream",
     "text": [
      "The result is : 24\n"
     ]
    }
   ],
   "source": [
    "number = 4\n",
    "\n",
    "enteredNumebr = int(input(\"ENter your number: \"))\n",
    "\n",
    "res = number + enteredNumebr\n",
    "\n",
    "print(\"The result is : \" + str(res))"
   ]
  }
 ],
 "metadata": {
  "kernelspec": {
   "display_name": "Python 3",
   "language": "python",
   "name": "python3"
  },
  "language_info": {
   "codemirror_mode": {
    "name": "ipython",
    "version": 3
   },
   "file_extension": ".py",
   "mimetype": "text/x-python",
   "name": "python",
   "nbconvert_exporter": "python",
   "pygments_lexer": "ipython3",
   "version": "3.11.4"
  }
 },
 "nbformat": 4,
 "nbformat_minor": 2
}
