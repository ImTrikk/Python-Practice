{
 "cells": [
  {
   "cell_type": "code",
   "execution_count": null,
   "metadata": {},
   "outputs": [],
   "source": []
  },
  {
   "cell_type": "code",
   "execution_count": 7,
   "metadata": {},
   "outputs": [
    {
     "name": "stdout",
     "output_type": "stream",
     "text": [
      "PatrickDionen\n"
     ]
    }
   ],
   "source": []
  },
  {
   "cell_type": "markdown",
   "metadata": {},
   "source": [
    "1. C\n",
    "2. D\n",
    "3. D\n",
    "4. A\n",
    "5. C\n"
   ]
  },
  {
   "cell_type": "markdown",
   "metadata": {},
   "source": [
    "1. Problem A\n"
   ]
  },
  {
   "cell_type": "code",
   "execution_count": 47,
   "metadata": {},
   "outputs": [
    {
     "name": "stdout",
     "output_type": "stream",
     "text": [
      "\t\t\t PERSONAL INFORMATION\n",
      "Name: Patrick James D. Dionen\t\t\t\tAge:21\n",
      "Gender: Male\t\t\t\t\t\tStatus: Single\n",
      "Occupation: Student\t\t\t\t\tAddress: Kinabjangan, Nasipit\n",
      "Primary SchoolKinabjangan Elementary School\t\tSecondary: Nasipit National Vocational School\n",
      "College: Carga State University\t\t\t\tContact Number: 09151320921\n",
      "Undergraduate: BS Information Technology\t\tProgram: Information Technology\n",
      "Height: 172 cm\t\t\t\t\t\tWeight: 60 kg\n",
      "Favorite Color: Space Gray\t\t\t\tFavorite FoodFried Chicken\n",
      "Favorite Movie: Interstellar\t\t\t\tDisabilities: None\n",
      "Hair ColorBlack\t\t\t\t\t\tFavorite Song: Pieces\n"
     ]
    }
   ],
   "source": [
    "\n",
    "name = \"Patrick James D. Dionen\"\n",
    "age = \"21\"\n",
    "gender = \"Male\"\n",
    "status = \"Single\"\n",
    "occupation = \"Student\"\n",
    "address = \"Kinabjangan, Nasipit\"\n",
    "primary_school = \"Kinabjangan Elementary School\"\n",
    "secondary = \"Nasipit National Vocational School\"\n",
    "college = \"Carga State University\"\n",
    "contact_number = \"09151320921\"\n",
    "undergraduate = \"BS Information Technology\"\n",
    "program = \"Information Technology\"\n",
    "height = \"172 cm\"\n",
    "weight = \"60 kg\"\n",
    "fav_color = \"Space Gray\"\n",
    "fav_food = \"Fried Chicken\"\n",
    "fav_movie = \"Interstellar\"\n",
    "disability = \"None\"\n",
    "hair_color = \"Black\"\n",
    "fav_song = \"Pieces\"\n",
    "\n",
    "print(\"\\t\\t\\t PERSONAL INFORMATION\")\n",
    "print(\"Name: \" + name + \"\\t\\t\\t\\t\" + \"Age:\" + age)\n",
    "print(\"Gender: \" + gender + \"\\t\\t\\t\\t\\t\\t\" + \"Status: \" +  status)\n",
    "print(\"Occupation: \" + occupation + \"\\t\\t\\t\\t\\t\" +  \"Address: \" +address)\n",
    "print(\"Primary School\" + primary_school + \"\\t\\t\" +  \"Secondary: \" + secondary)\n",
    "print(\"College: \" + college + \"\\t\\t\\t\\t\" +  \"Contact Number: \" + contact_number)\n",
    "print(\"Undergraduate: \" + undergraduate + \"\\t\\t\" +  \"Program: \" +program)\n",
    "print(\"Height: \" + height + \"\\t\\t\\t\\t\\t\\t\" +  \"Weight: \"+weight)\n",
    "print(\"Favorite Color: \" + fav_color + \"\\t\\t\\t\\t\" +  \"Favorite Food\" + fav_food)\n",
    "print(\"Favorite Movie: \" + fav_movie + \"\\t\\t\\t\\t\" +  \"Disabilities: \" +disability)\n",
    "print(\"Hair Color\" + hair_color + \"\\t\\t\\t\\t\\t\\t\" +  \"Favorite Song: \" + fav_song)\n"
   ]
  },
  {
   "cell_type": "markdown",
   "metadata": {},
   "source": [
    "2. Problem B\n"
   ]
  },
  {
   "cell_type": "code",
   "execution_count": 49,
   "metadata": {},
   "outputs": [
    {
     "name": "stdout",
     "output_type": "stream",
     "text": [
      "Enter a number 10\n",
      "4 + 10 = 14 id:  140713885361352\n",
      "14 - 2.0 =  12.0 id:  1540076613584\n",
      "12.0 * 2.0 = 24.0 id:  1540076603568\n",
      "24.0 / 2.0 = 12.0 id:  1540058708848\n",
      "12.0 // 2.0 = 6.0 id:  1540082570512\n",
      "6.0 % 2.0 = 0.0 id:  1540076613744\n",
      "0.0 ** 2.0 = 0.0 id:  1540058706480\n"
     ]
    }
   ],
   "source": [
    "firstNum = 4\n",
    "number = int(input(\"Enter a number: \"))\n",
    "\n",
    "res = firstNum + number\n",
    "newRes = res-(firstNum/2)\n",
    "newMul = newRes * (firstNum/2)\n",
    "newDiv = newMul / (firstNum/2)\n",
    "newRound = newDiv // (firstNum/2)\n",
    "newMod = newDiv % (firstNum/2)\n",
    "newExpo = newMod ** (firstNum/2)\n",
    "\n",
    "print(\"Enter a number\", number)\n",
    "print(firstNum, \"+\" , number, \"=\", res, \"id: \",id(res))\n",
    "print(res, \"-\",(firstNum/2), \"= \",newRes, \"id: \", id(newRes))\n",
    "print(newRes, \"*\",(firstNum/2), \"=\", newMul, \"id: \", id(newMul))\n",
    "print(newMul, \"/\", (firstNum/2), \"=\", newDiv, \"id: \", id(newDiv))\n",
    "print(newDiv, \"//\", (firstNum/2), \"=\", newRound, \"id: \", id(newRound))\n",
    "print(newRound, \"%\", (firstNum/2), \"=\", newMod, \"id: \", id(newMod))\n",
    "print(newMod, \"**\", (firstNum/2), \"=\", newExpo, \"id: \", id(newExpo))"
   ]
  },
  {
   "cell_type": "code",
   "execution_count": null,
   "metadata": {},
   "outputs": [],
   "source": []
  }
 ],
 "metadata": {
  "kernelspec": {
   "display_name": "Python 3",
   "language": "python",
   "name": "python3"
  },
  "language_info": {
   "codemirror_mode": {
    "name": "ipython",
    "version": 3
   },
   "file_extension": ".py",
   "mimetype": "text/x-python",
   "name": "python",
   "nbconvert_exporter": "python",
   "pygments_lexer": "ipython3",
   "version": "3.11.4"
  }
 },
 "nbformat": 4,
 "nbformat_minor": 2
}
